{
  "nbformat": 4,
  "nbformat_minor": 0,
  "metadata": {
    "colab": {
      "name": "CustomerChunk_ANN.ipynb",
      "version": "0.3.2",
      "provenance": [],
      "collapsed_sections": []
    },
    "kernelspec": {
      "name": "python3",
      "display_name": "Python 3"
    }
  },
  "cells": [
    {
      "metadata": {
        "id": "30X_eyU5Srym",
        "colab_type": "code",
        "outputId": "a6213c84-4d70-44eb-b988-ed6df9401857",
        "colab": {
          "resources": {
            "http://localhost:8080/nbextensions/google.colab/files.js": {
              "data": "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",
              "ok": true,
              "headers": [
                [
                  "content-type",
                  "application/javascript"
                ]
              ],
              "status": 200,
              "status_text": ""
            }
          },
          "base_uri": "https://localhost:8080/",
          "height": 72
        },
        "cellView": "code"
      },
      "cell_type": "code",
      "source": [
        "#@title Default title text\n",
        "import numpy as np\n",
        "import pandas as pd\n",
        "import matplotlib.pyplot as plt\n",
        "\n",
        "from google.colab import files\n",
        "\n",
        "#importing the dataset\n",
        "dataset = files.upload()\n",
        "\n",
        "#reading the dataset from the uploaded file\n",
        "\n"
      ],
      "execution_count": 55,
      "outputs": [
        {
          "output_type": "display_data",
          "data": {
            "text/html": [
              "\n",
              "     <input type=\"file\" id=\"files-c995a8fe-2010-4a59-9371-df3bbce6f171\" name=\"files[]\" multiple disabled />\n",
              "     <output id=\"result-c995a8fe-2010-4a59-9371-df3bbce6f171\">\n",
              "      Upload widget is only available when the cell has been executed in the\n",
              "      current browser session. Please rerun this cell to enable.\n",
              "      </output>\n",
              "      <script src=\"/nbextensions/google.colab/files.js\"></script> "
            ],
            "text/plain": [
              "<IPython.core.display.HTML object>"
            ]
          },
          "metadata": {
            "tags": []
          }
        },
        {
          "output_type": "stream",
          "text": [
            "Saving Churn_Modelling.csv to Churn_Modelling (2).csv\n"
          ],
          "name": "stdout"
        }
      ]
    },
    {
      "metadata": {
        "id": "_PEpRLPrescA",
        "colab_type": "code",
        "outputId": "0d86b343-28c5-4659-a8bf-0635de6975b6",
        "colab": {
          "base_uri": "https://localhost:8080/",
          "height": 105
        }
      },
      "cell_type": "code",
      "source": [
        "import warnings\n",
        "warnings.filterwarnings(\"ignore\", category=DeprecationWarning) \n",
        "\n",
        "import io\n",
        "dataset1 = pd.read_csv(io.StringIO(dataset['Churn_Modelling.csv'].decode('utf-8')))\n",
        "\n",
        "X = dataset1.iloc[:,3:13].values\n",
        "Y = dataset1.iloc[:,13].values\n",
        "\n",
        "\n",
        "from sklearn.preprocessing import LabelEncoder\n",
        "X_encoder = LabelEncoder()\n",
        "X[:,1] = X_encoder.fit_transform(X[:,1])\n",
        "X_encoder2 = LabelEncoder()\n",
        "X[:,2] = X_encoder2.fit_transform(X[:,2])\n",
        "\n",
        "\n",
        "from sklearn.preprocessing import OneHotEncoder\n",
        "onehotencoder = OneHotEncoder(categorical_features=[1])\n",
        "X = onehotencoder.fit_transform(X).toarray()\n",
        "X = X[:,1:]\n",
        "\n",
        "#dividing the dataset into tranining and testing dataset\n",
        "from sklearn.model_selection import train_test_split\n",
        "X_train,X_test,y_train,y_test = train_test_split(X,Y,test_size=0.30,random_state=0)\n",
        "\n",
        "#standard Scaling\n",
        "from sklearn.preprocessing import StandardScaler\n",
        "scaler = StandardScaler()\n",
        "X_train= scaler.fit_transform(X_train)\n",
        "X_test = scaler.transform(X_test)\n"
      ],
      "execution_count": 56,
      "outputs": [
        {
          "output_type": "stream",
          "text": [
            "/usr/local/lib/python3.6/dist-packages/sklearn/preprocessing/_encoders.py:368: FutureWarning: The handling of integer data will change in version 0.22. Currently, the categories are determined based on the range [0, max(values)], while in the future they will be determined based on the unique values.\n",
            "If you want the future behaviour and silence this warning, you can specify \"categories='auto'\".\n",
            "In case you used a LabelEncoder before this OneHotEncoder to convert the categories to integers, then you can now use the OneHotEncoder directly.\n",
            "  warnings.warn(msg, FutureWarning)\n"
          ],
          "name": "stderr"
        }
      ]
    },
    {
      "metadata": {
        "id": "ZGTg4xyWQZpJ",
        "colab_type": "code",
        "colab": {
          "base_uri": "https://localhost:8080/",
          "height": 3624
        },
        "outputId": "2bedd363-1efc-467f-dada-1cd552c46daf"
      },
      "cell_type": "code",
      "source": [
        "import keras\n",
        "from keras.models import Sequential\n",
        "from keras.layers import Dense\n",
        "\n",
        "\n",
        "classifier = Sequential()\n",
        "\n",
        "#adding the first input layer and first hidden layer\n",
        "classifier.add(Dense(output_dim=6,init='uniform',activation='relu',input_dim=11))\n",
        "\n",
        "#adding the second hidden layer\n",
        "classifier.add(Dense(output_dim=6,init='uniform',activation='relu'))\n",
        "\n",
        "#adding the  output layer\n",
        "classifier.add(Dense(output_dim=1,init='uniform',activation='sigmoid'))\n",
        "\n",
        "\n",
        "#compiling the ANN\n",
        "classifier.compile(optimizer='adam',loss='binary_crossentropy',metrics=['accuracy'])\n",
        "\n",
        "classifier.fit(X_train,y_train,batch_size=10,nb_epoch=100)\n",
        "\n"
      ],
      "execution_count": 60,
      "outputs": [
        {
          "output_type": "stream",
          "text": [
            "WARNING:tensorflow:From /usr/local/lib/python3.6/dist-packages/tensorflow/python/ops/math_ops.py:3066: to_int32 (from tensorflow.python.ops.math_ops) is deprecated and will be removed in a future version.\n",
            "Instructions for updating:\n",
            "Use tf.cast instead.\n"
          ],
          "name": "stdout"
        },
        {
          "output_type": "stream",
          "text": [
            "/usr/local/lib/python3.6/dist-packages/ipykernel_launcher.py:9: UserWarning: Update your `Dense` call to the Keras 2 API: `Dense(activation=\"relu\", input_dim=11, units=6, kernel_initializer=\"uniform\")`\n",
            "  if __name__ == '__main__':\n",
            "/usr/local/lib/python3.6/dist-packages/ipykernel_launcher.py:12: UserWarning: Update your `Dense` call to the Keras 2 API: `Dense(activation=\"relu\", units=6, kernel_initializer=\"uniform\")`\n",
            "  if sys.path[0] == '':\n",
            "/usr/local/lib/python3.6/dist-packages/ipykernel_launcher.py:15: UserWarning: Update your `Dense` call to the Keras 2 API: `Dense(activation=\"sigmoid\", units=1, kernel_initializer=\"uniform\")`\n",
            "  from ipykernel import kernelapp as app\n",
            "/usr/local/lib/python3.6/dist-packages/ipykernel_launcher.py:21: UserWarning: The `nb_epoch` argument in `fit` has been renamed `epochs`.\n"
          ],
          "name": "stderr"
        },
        {
          "output_type": "stream",
          "text": [
            "Epoch 1/100\n",
            "7000/7000 [==============================] - 1s 183us/step - loss: 0.4922 - acc: 0.7976\n",
            "Epoch 2/100\n",
            "7000/7000 [==============================] - 1s 92us/step - loss: 0.4303 - acc: 0.7977\n",
            "Epoch 3/100\n",
            "7000/7000 [==============================] - 1s 91us/step - loss: 0.4257 - acc: 0.7977\n",
            "Epoch 4/100\n",
            "7000/7000 [==============================] - 1s 89us/step - loss: 0.4216 - acc: 0.7977\n",
            "Epoch 5/100\n",
            "7000/7000 [==============================] - 1s 91us/step - loss: 0.4181 - acc: 0.8214\n",
            "Epoch 6/100\n",
            "7000/7000 [==============================] - 1s 89us/step - loss: 0.4156 - acc: 0.8246\n",
            "Epoch 7/100\n",
            "7000/7000 [==============================] - 1s 90us/step - loss: 0.4144 - acc: 0.8301\n",
            "Epoch 8/100\n",
            "7000/7000 [==============================] - 1s 89us/step - loss: 0.4124 - acc: 0.8300\n",
            "Epoch 9/100\n",
            "7000/7000 [==============================] - 1s 89us/step - loss: 0.4112 - acc: 0.8291\n",
            "Epoch 10/100\n",
            "7000/7000 [==============================] - 1s 89us/step - loss: 0.4103 - acc: 0.8314\n",
            "Epoch 11/100\n",
            "7000/7000 [==============================] - 1s 89us/step - loss: 0.4094 - acc: 0.8343\n",
            "Epoch 12/100\n",
            "7000/7000 [==============================] - 1s 89us/step - loss: 0.4084 - acc: 0.8330\n",
            "Epoch 13/100\n",
            "7000/7000 [==============================] - 1s 91us/step - loss: 0.4080 - acc: 0.8334\n",
            "Epoch 14/100\n",
            "7000/7000 [==============================] - 1s 91us/step - loss: 0.4073 - acc: 0.8341\n",
            "Epoch 15/100\n",
            "7000/7000 [==============================] - 1s 90us/step - loss: 0.4068 - acc: 0.8344\n",
            "Epoch 16/100\n",
            "7000/7000 [==============================] - 1s 90us/step - loss: 0.4057 - acc: 0.8337\n",
            "Epoch 17/100\n",
            "7000/7000 [==============================] - 1s 89us/step - loss: 0.4058 - acc: 0.8340\n",
            "Epoch 18/100\n",
            "7000/7000 [==============================] - 1s 90us/step - loss: 0.4059 - acc: 0.8351\n",
            "Epoch 19/100\n",
            "7000/7000 [==============================] - 1s 89us/step - loss: 0.4047 - acc: 0.8353\n",
            "Epoch 20/100\n",
            "7000/7000 [==============================] - 1s 89us/step - loss: 0.4049 - acc: 0.8356\n",
            "Epoch 21/100\n",
            "7000/7000 [==============================] - 1s 90us/step - loss: 0.4045 - acc: 0.8357\n",
            "Epoch 22/100\n",
            "7000/7000 [==============================] - 1s 90us/step - loss: 0.4044 - acc: 0.8349\n",
            "Epoch 23/100\n",
            "7000/7000 [==============================] - 1s 89us/step - loss: 0.4041 - acc: 0.8343\n",
            "Epoch 24/100\n",
            "7000/7000 [==============================] - 1s 89us/step - loss: 0.4035 - acc: 0.8337\n",
            "Epoch 25/100\n",
            "7000/7000 [==============================] - 1s 89us/step - loss: 0.4038 - acc: 0.8359\n",
            "Epoch 26/100\n",
            "7000/7000 [==============================] - 1s 91us/step - loss: 0.4032 - acc: 0.8346\n",
            "Epoch 27/100\n",
            "7000/7000 [==============================] - 1s 89us/step - loss: 0.4032 - acc: 0.8346\n",
            "Epoch 28/100\n",
            "7000/7000 [==============================] - 1s 90us/step - loss: 0.4030 - acc: 0.8349\n",
            "Epoch 29/100\n",
            "7000/7000 [==============================] - 1s 91us/step - loss: 0.4029 - acc: 0.8343\n",
            "Epoch 30/100\n",
            "7000/7000 [==============================] - 1s 90us/step - loss: 0.4030 - acc: 0.8333\n",
            "Epoch 31/100\n",
            "7000/7000 [==============================] - 1s 90us/step - loss: 0.4023 - acc: 0.8343\n",
            "Epoch 32/100\n",
            "7000/7000 [==============================] - 1s 91us/step - loss: 0.4028 - acc: 0.8347\n",
            "Epoch 33/100\n",
            "7000/7000 [==============================] - 1s 88us/step - loss: 0.4024 - acc: 0.8351\n",
            "Epoch 34/100\n",
            "7000/7000 [==============================] - 1s 91us/step - loss: 0.4023 - acc: 0.8350\n",
            "Epoch 35/100\n",
            "7000/7000 [==============================] - 1s 90us/step - loss: 0.4016 - acc: 0.8350\n",
            "Epoch 36/100\n",
            "7000/7000 [==============================] - 1s 90us/step - loss: 0.4019 - acc: 0.8351\n",
            "Epoch 37/100\n",
            "7000/7000 [==============================] - 1s 90us/step - loss: 0.4014 - acc: 0.8340\n",
            "Epoch 38/100\n",
            "7000/7000 [==============================] - 1s 90us/step - loss: 0.4011 - acc: 0.8347\n",
            "Epoch 39/100\n",
            "7000/7000 [==============================] - 1s 90us/step - loss: 0.4011 - acc: 0.8347\n",
            "Epoch 40/100\n",
            "7000/7000 [==============================] - 1s 89us/step - loss: 0.4012 - acc: 0.8344\n",
            "Epoch 41/100\n",
            "7000/7000 [==============================] - 1s 90us/step - loss: 0.4003 - acc: 0.8363\n",
            "Epoch 42/100\n",
            "7000/7000 [==============================] - 1s 91us/step - loss: 0.4006 - acc: 0.8349\n",
            "Epoch 43/100\n",
            "7000/7000 [==============================] - 1s 89us/step - loss: 0.4000 - acc: 0.8351\n",
            "Epoch 44/100\n",
            "7000/7000 [==============================] - 1s 90us/step - loss: 0.3997 - acc: 0.8354\n",
            "Epoch 45/100\n",
            "7000/7000 [==============================] - 1s 89us/step - loss: 0.4000 - acc: 0.8356\n",
            "Epoch 46/100\n",
            "7000/7000 [==============================] - 1s 89us/step - loss: 0.3993 - acc: 0.8353\n",
            "Epoch 47/100\n",
            "7000/7000 [==============================] - 1s 90us/step - loss: 0.3991 - acc: 0.8351\n",
            "Epoch 48/100\n",
            "7000/7000 [==============================] - 1s 89us/step - loss: 0.3988 - acc: 0.8356\n",
            "Epoch 49/100\n",
            "7000/7000 [==============================] - 1s 88us/step - loss: 0.3980 - acc: 0.8351\n",
            "Epoch 50/100\n",
            "7000/7000 [==============================] - 1s 90us/step - loss: 0.3981 - acc: 0.8357\n",
            "Epoch 51/100\n",
            "7000/7000 [==============================] - 1s 90us/step - loss: 0.3981 - acc: 0.8350\n",
            "Epoch 52/100\n",
            "7000/7000 [==============================] - 1s 92us/step - loss: 0.3980 - acc: 0.8344\n",
            "Epoch 53/100\n",
            "7000/7000 [==============================] - 1s 89us/step - loss: 0.3977 - acc: 0.8367\n",
            "Epoch 54/100\n",
            "7000/7000 [==============================] - 1s 90us/step - loss: 0.3974 - acc: 0.8353\n",
            "Epoch 55/100\n",
            "7000/7000 [==============================] - 1s 91us/step - loss: 0.3976 - acc: 0.8337\n",
            "Epoch 56/100\n",
            "7000/7000 [==============================] - 1s 91us/step - loss: 0.3973 - acc: 0.8349\n",
            "Epoch 57/100\n",
            "7000/7000 [==============================] - 1s 90us/step - loss: 0.3974 - acc: 0.8344\n",
            "Epoch 58/100\n",
            "7000/7000 [==============================] - 1s 91us/step - loss: 0.3966 - acc: 0.8344\n",
            "Epoch 59/100\n",
            "7000/7000 [==============================] - 1s 89us/step - loss: 0.3972 - acc: 0.8337\n",
            "Epoch 60/100\n",
            "7000/7000 [==============================] - 1s 89us/step - loss: 0.3970 - acc: 0.8356\n",
            "Epoch 61/100\n",
            "7000/7000 [==============================] - 1s 90us/step - loss: 0.3968 - acc: 0.8357\n",
            "Epoch 62/100\n",
            "7000/7000 [==============================] - 1s 90us/step - loss: 0.3965 - acc: 0.8353\n",
            "Epoch 63/100\n",
            "7000/7000 [==============================] - 1s 90us/step - loss: 0.3961 - acc: 0.8351\n",
            "Epoch 64/100\n",
            "7000/7000 [==============================] - 1s 93us/step - loss: 0.3964 - acc: 0.8354\n",
            "Epoch 65/100\n",
            "7000/7000 [==============================] - 1s 92us/step - loss: 0.3965 - acc: 0.8373\n",
            "Epoch 66/100\n",
            "7000/7000 [==============================] - 1s 97us/step - loss: 0.3964 - acc: 0.8347\n",
            "Epoch 67/100\n",
            "7000/7000 [==============================] - 1s 97us/step - loss: 0.3961 - acc: 0.8363\n",
            "Epoch 68/100\n",
            "7000/7000 [==============================] - 1s 98us/step - loss: 0.3956 - acc: 0.8367\n",
            "Epoch 69/100\n",
            "7000/7000 [==============================] - 1s 98us/step - loss: 0.3965 - acc: 0.8356\n",
            "Epoch 70/100\n",
            "7000/7000 [==============================] - 1s 102us/step - loss: 0.3955 - acc: 0.8356\n",
            "Epoch 71/100\n",
            "7000/7000 [==============================] - 1s 103us/step - loss: 0.3955 - acc: 0.8371\n",
            "Epoch 72/100\n",
            "7000/7000 [==============================] - 1s 98us/step - loss: 0.3961 - acc: 0.8356\n",
            "Epoch 73/100\n",
            "7000/7000 [==============================] - 1s 94us/step - loss: 0.3955 - acc: 0.8367\n",
            "Epoch 74/100\n",
            "7000/7000 [==============================] - 1s 89us/step - loss: 0.3955 - acc: 0.8354\n",
            "Epoch 75/100\n",
            "7000/7000 [==============================] - 1s 90us/step - loss: 0.3958 - acc: 0.8359\n",
            "Epoch 76/100\n",
            "7000/7000 [==============================] - 1s 91us/step - loss: 0.3955 - acc: 0.8359\n",
            "Epoch 77/100\n",
            "7000/7000 [==============================] - 1s 90us/step - loss: 0.3954 - acc: 0.8369\n",
            "Epoch 78/100\n",
            "7000/7000 [==============================] - 1s 89us/step - loss: 0.3953 - acc: 0.8376\n",
            "Epoch 79/100\n",
            "7000/7000 [==============================] - 1s 89us/step - loss: 0.3953 - acc: 0.8371\n",
            "Epoch 80/100\n",
            "7000/7000 [==============================] - 1s 89us/step - loss: 0.3952 - acc: 0.8356\n",
            "Epoch 81/100\n",
            "7000/7000 [==============================] - 1s 90us/step - loss: 0.3952 - acc: 0.8363\n",
            "Epoch 82/100\n",
            "7000/7000 [==============================] - 1s 91us/step - loss: 0.3957 - acc: 0.8364\n",
            "Epoch 83/100\n",
            "7000/7000 [==============================] - 1s 89us/step - loss: 0.3951 - acc: 0.8360\n",
            "Epoch 84/100\n",
            "7000/7000 [==============================] - 1s 90us/step - loss: 0.3951 - acc: 0.8390\n",
            "Epoch 85/100\n",
            "7000/7000 [==============================] - 1s 89us/step - loss: 0.3952 - acc: 0.8373\n",
            "Epoch 86/100\n",
            "7000/7000 [==============================] - 1s 90us/step - loss: 0.3948 - acc: 0.8369\n",
            "Epoch 87/100\n",
            "7000/7000 [==============================] - 1s 90us/step - loss: 0.3951 - acc: 0.8363\n",
            "Epoch 88/100\n",
            "7000/7000 [==============================] - 1s 88us/step - loss: 0.3953 - acc: 0.8359\n",
            "Epoch 89/100\n",
            "7000/7000 [==============================] - 1s 89us/step - loss: 0.3941 - acc: 0.8366\n",
            "Epoch 90/100\n",
            "7000/7000 [==============================] - 1s 89us/step - loss: 0.3948 - acc: 0.8371\n",
            "Epoch 91/100\n",
            "7000/7000 [==============================] - 1s 89us/step - loss: 0.3949 - acc: 0.8363\n",
            "Epoch 92/100\n",
            "7000/7000 [==============================] - 1s 90us/step - loss: 0.3949 - acc: 0.8363\n",
            "Epoch 93/100\n",
            "7000/7000 [==============================] - 1s 90us/step - loss: 0.3950 - acc: 0.8367\n",
            "Epoch 94/100\n",
            "7000/7000 [==============================] - 1s 89us/step - loss: 0.3945 - acc: 0.8360\n",
            "Epoch 95/100\n",
            "7000/7000 [==============================] - 1s 90us/step - loss: 0.3943 - acc: 0.8374\n",
            "Epoch 96/100\n",
            "7000/7000 [==============================] - 1s 90us/step - loss: 0.3946 - acc: 0.8387\n",
            "Epoch 97/100\n",
            "7000/7000 [==============================] - 1s 90us/step - loss: 0.3946 - acc: 0.8363\n",
            "Epoch 98/100\n",
            "7000/7000 [==============================] - 1s 90us/step - loss: 0.3943 - acc: 0.8366\n",
            "Epoch 99/100\n",
            "7000/7000 [==============================] - 1s 90us/step - loss: 0.3941 - acc: 0.8366\n",
            "Epoch 100/100\n",
            "7000/7000 [==============================] - 1s 90us/step - loss: 0.3944 - acc: 0.8369\n"
          ],
          "name": "stdout"
        },
        {
          "output_type": "execute_result",
          "data": {
            "text/plain": [
              "<keras.callbacks.History at 0x7f34b3d33c50>"
            ]
          },
          "metadata": {
            "tags": []
          },
          "execution_count": 60
        }
      ]
    },
    {
      "metadata": {
        "id": "XXYsixlIi9HO",
        "colab_type": "code",
        "colab": {}
      },
      "cell_type": "code",
      "source": [
        "y_pred = classifier.predict(X_test)"
      ],
      "execution_count": 0,
      "outputs": []
    },
    {
      "metadata": {
        "id": "pjCtkTzdkOQ8",
        "colab_type": "code",
        "colab": {}
      },
      "cell_type": "code",
      "source": [
        ""
      ],
      "execution_count": 0,
      "outputs": []
    }
  ]
}


'''
The ReLU function is designed mainly to get rid of the vanishing gradient problem in the initial layers of a deep neural network. Since the gradient of ReLU is constant, it suffers less from the vanishing gradient problem. However, since ReLU is linear, it can not map the hidden layers signals to an output (in multiclass or binary classification setting). On the other hand, the output of the Sigmoid and softmax functions are between 0 and 1, (and all the outputs sum up to 1) so we can think of them as probabilities of belonging to each of the classes (binary class in the case of sigmoid and multiple classes in the case of softmax), and therefore very intuitive. Hence we use softmax and sigmoid as the final output layer activations. Please refer to some other materials on multiclass and binary classification as they have not been explained here well
'''
