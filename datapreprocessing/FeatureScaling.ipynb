{
 "cells": [
  {
   "cell_type": "code",
   "execution_count": 2,
   "metadata": {},
   "outputs": [],
   "source": [
    "# -*- coding: utf-8 -*-\n",
    "\"\"\"\n",
    "Spyder Editor\n",
    "\n",
    "This is a temporary script file.\n",
    "\"\"\"\n",
    "\n",
    "from sklearn import preprocessing\n",
    "import numpy as np\n",
    "import pandas as pd\n",
    "import matplotlib.pyplot as plt\n",
    "\n",
    "\n",
    "#importing the dataset\n",
    "dataset = pd.read_csv('C:/Machine Learning A-Z Template Folder/Part 1 - Data Preprocessing/Data.csv')\n",
    "X = dataset.iloc[:,:-1].values\n",
    "y = dataset.iloc[:,-1].values\n",
    "\n",
    "#taking care of missing data\n",
    "from sklearn.preprocessing import Imputer\n",
    "imputer = Imputer(missing_values='NaN',strategy=\"mean\",axis=0)\n",
    "imputer.fit(X[:,[1,2]])\n",
    "X[:,[1,2]] = imputer.transform(X[:,[1,2]])\n",
    "\n",
    "#encoding the categorical data\n",
    "from sklearn.preprocessing import LabelEncoder,OneHotEncoder\n",
    "labelEncoder_X = LabelEncoder()\n",
    "X[:,0]=labelEncoder_X.fit_transform(X[:,0])\n",
    "\n",
    "onehotEncoder  = OneHotEncoder(categorical_features=[0])\n",
    "X = onehotEncoder.fit_transform(X).toarray()\n",
    "\n",
    "\n",
    "#label encoding to the y treain dataset\n",
    "labelEncoding_y = LabelEncoder()\n",
    "y= labelEncoding_y.fit_transform(y)\n",
    "\n",
    "\n",
    "#splittting the dattaset into training and testing dataset\n",
    "from sklearn.model_selection import train_test_split\n",
    "X_train,X_test,y_train,y_test = train_test_split(X,y,test_size=0.33)\n",
    "\n",
    "\n",
    "#applying feature scaling to the x-train and y_train data\n",
    "from sklearn.preprocessing import StandardScaler\n",
    "standard_scalar = StandardScaler()\n",
    "standard_scalar.fit(X_train)\n",
    "X_train = standard_scalar.transform(X_train)"
   ]
  },
  {
   "cell_type": "code",
   "execution_count": 3,
   "metadata": {},
   "outputs": [
    {
     "name": "stdout",
     "output_type": "stream",
     "text": [
      "[[-0.70710678 -0.4472136   1.         -0.02109803 -0.07872224]\n",
      " [ 1.41421356 -0.4472136  -1.         -0.18385424  0.51444067]\n",
      " [-0.70710678 -0.4472136   1.          0.10549014 -0.96846659]\n",
      " [-0.70710678 -0.4472136   1.         -1.81141637 -1.36390853]\n",
      " [ 1.41421356 -0.4472136  -1.          1.6064641   1.70076648]\n",
      " [-0.70710678  2.23606798 -1.          0.3044144   0.19589022]]\n"
     ]
    }
   ],
   "source": [
    "print(X_train)"
   ]
  },
  {
   "cell_type": "code",
   "execution_count": 5,
   "metadata": {},
   "outputs": [
    {
     "name": "stdout",
     "output_type": "stream",
     "text": [
      "[0 1 0 1 1 1]\n"
     ]
    }
   ],
   "source": [
    "print(y_train)"
   ]
  },
  {
   "cell_type": "code",
   "execution_count": null,
   "metadata": {
    "collapsed": true
   },
   "outputs": [],
   "source": []
  }
 ],
 "metadata": {
  "kernelspec": {
   "display_name": "Python 3",
   "language": "python",
   "name": "python3"
  },
  "language_info": {
   "codemirror_mode": {
    "name": "ipython",
    "version": 3
   },
   "file_extension": ".py",
   "mimetype": "text/x-python",
   "name": "python",
   "nbconvert_exporter": "python",
   "pygments_lexer": "ipython3",
   "version": "3.6.2"
  }
 },
 "nbformat": 4,
 "nbformat_minor": 2
}
