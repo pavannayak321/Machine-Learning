{
 "cells": [
  {
   "cell_type": "code",
   "execution_count": 47,
   "metadata": {},
   "outputs": [
    {
     "name": "stdout",
     "output_type": "stream",
     "text": [
      "(112,)\n",
      "predicted target is:{} [0]\n",
      "target predictions is:{} ['setosa']\n",
      "[2 1 0 2 0 2 0 1 1 1 2 1 1 1 1 0 1 1 0 0 2 1 0 0 2 0 0 1 1 0 2 1 0 2 2 1 0\n",
      " 2]\n",
      "test set score{:.2f} 0.9736842105263158\n"
     ]
    }
   ],
   "source": [
    "from sklearn.datasets import load_iris\n",
    "from sklearn.model_selection import train_test_split\n",
    "dataset=load_iris()\n",
    "X_train,X_test,y_train,y_test=train_test_split(dataset['data'],dataset['target'],random_state=0)\n",
    "print(y_train.shape)\n",
    "\n",
    "\n",
    "\n",
    "\n",
    "#creating the dataframe for the given dataset\n",
    "import pandas as pd\n",
    "iris_dataframe=pd.DataFrame(X_train, columns=dataset.feature_names)\n",
    "#print(iris_dataframe)\n",
    "\n",
    "\n",
    "\n",
    "#building the KNeighborClassifier for the iris dataset\n",
    "from sklearn.neighbors import KNeighborsClassifier\n",
    "knn=KNeighborsClassifier(n_neighbors=1)\n",
    "knn.fit(X_train,y_train)\n",
    "\n",
    "\n",
    "# making the predictions\n",
    "import numpy as np\n",
    "X_new =np.array([[5,2.9,1,0.2]])\n",
    "\n",
    "\n",
    "#printing the prediction\n",
    "prediction=knn.predict(X_new)\n",
    "print(\"predicted target is:{}\",format(prediction))\n",
    "print(\"target predictions is:{}\",dataset['target_names'][prediction])\n",
    "\n",
    "\n",
    "\n",
    "#predicting how well our model is  giving the accurate output by giving the test_set data and take mean() of it \n",
    "test_accuracy=knn.predict(X_test)\n",
    "print(test_accuracy)\n",
    "print(\"test set score{:.2f}\",format(knn.score(X_test,y_test)))\n",
    "\n"
   ]
  },
  {
   "cell_type": "code",
   "execution_count": null,
   "metadata": {},
   "outputs": [],
   "source": []
  }
 ],
 "metadata": {
  "kernelspec": {
   "display_name": "Python 3",
   "language": "python",
   "name": "python3"
  },
  "language_info": {
   "codemirror_mode": {
    "name": "ipython",
    "version": 3
   },
   "file_extension": ".py",
   "mimetype": "text/x-python",
   "name": "python",
   "nbconvert_exporter": "python",
   "pygments_lexer": "ipython3",
   "version": "3.6.5"
  }
 },
 "nbformat": 4,
 "nbformat_minor": 2
}
